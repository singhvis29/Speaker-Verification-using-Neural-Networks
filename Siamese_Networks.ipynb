{
  "nbformat": 4,
  "nbformat_minor": 0,
  "metadata": {
    "colab": {
      "name": "DL_A4_Problem1.ipynb",
      "provenance": [],
      "collapsed_sections": []
    },
    "kernelspec": {
      "name": "python3",
      "display_name": "Python 3"
    },
    "accelerator": "GPU"
  },
  "cells": [
    {
      "cell_type": "code",
      "metadata": {
        "id": "oLTBcsE9CIXd",
        "colab_type": "code",
        "colab": {
          "base_uri": "https://localhost:8080/",
          "height": 64
        },
        "outputId": "680d8d77-64e4-4013-e5bd-332598ae85fb"
      },
      "source": [
        "import numpy as np\n",
        "import tensorflow  as tf\n",
        "from google.colab import files\n",
        "from google.colab import drive\n",
        "import glob\n",
        "import pickle\n",
        "import random\n",
        "import itertools as itr\n",
        "import librosa\n",
        "from tensorflow.contrib.layers import fully_connected\n",
        "\n",
        "import warnings\n",
        "warnings.filterwarnings('ignore')"
      ],
      "execution_count": 1,
      "outputs": [
        {
          "output_type": "display_data",
          "data": {
            "text/html": [
              "<p style=\"color: red;\">\n",
              "The default version of TensorFlow in Colab will soon switch to TensorFlow 2.x.<br>\n",
              "We recommend you <a href=\"https://www.tensorflow.org/guide/migrate\" target=\"_blank\">upgrade</a> now \n",
              "or ensure your notebook will continue to use TensorFlow 1.x via the <code>%tensorflow_version 1.x</code> magic:\n",
              "<a href=\"https://colab.research.google.com/notebooks/tensorflow_version.ipynb\" target=\"_blank\">more info</a>.</p>\n"
            ],
            "text/plain": [
              "<IPython.core.display.HTML object>"
            ]
          },
          "metadata": {
            "tags": []
          }
        }
      ]
    },
    {
      "cell_type": "code",
      "metadata": {
        "id": "DFTrFFisEirL",
        "colab_type": "code",
        "outputId": "1af80a9a-90c3-4b38-d63c-900a4c7bd385",
        "colab": {
          "base_uri": "https://localhost:8080/",
          "height": 126
        }
      },
      "source": [
        "drive.mount('/content/Drive/',force_remount =  True)"
      ],
      "execution_count": 2,
      "outputs": [
        {
          "output_type": "stream",
          "text": [
            "Go to this URL in a browser: https://accounts.google.com/o/oauth2/auth?client_id=947318989803-6bn6qk8qdgf4n4g3pfee6491hc0brc4i.apps.googleusercontent.com&redirect_uri=urn%3aietf%3awg%3aoauth%3a2.0%3aoob&response_type=code&scope=email%20https%3a%2f%2fwww.googleapis.com%2fauth%2fdocs.test%20https%3a%2f%2fwww.googleapis.com%2fauth%2fdrive%20https%3a%2f%2fwww.googleapis.com%2fauth%2fdrive.photos.readonly%20https%3a%2f%2fwww.googleapis.com%2fauth%2fpeopleapi.readonly\n",
            "\n",
            "Enter your authorization code:\n",
            "··········\n",
            "Mounted at /content/Drive/\n"
          ],
          "name": "stdout"
        }
      ]
    },
    {
      "cell_type": "code",
      "metadata": {
        "id": "rNTj3VMBEz-l",
        "colab_type": "code",
        "colab": {}
      },
      "source": [
        "dirpath = \"Drive/My Drive/Acads/Deep Learning/A4/\""
      ],
      "execution_count": 0,
      "outputs": []
    },
    {
      "cell_type": "code",
      "metadata": {
        "id": "zkKsXCIYFpEC",
        "colab_type": "code",
        "colab": {}
      },
      "source": [
        "#Loading pickle files\n",
        "trs = open(dirpath+\"hw4_trs.pkl\", \"rb\")\n",
        "trs = pickle.load(trs)"
      ],
      "execution_count": 0,
      "outputs": []
    },
    {
      "cell_type": "code",
      "metadata": {
        "id": "__Rbk7B73XfH",
        "colab_type": "code",
        "colab": {}
      },
      "source": [
        "#Loading pickle files\n",
        "tes = open(dirpath+\"hw4_tes.pkl\", \"rb\")\n",
        "tes = pickle.load(tes)"
      ],
      "execution_count": 0,
      "outputs": []
    },
    {
      "cell_type": "code",
      "metadata": {
        "id": "XOvPmq0JGbH-",
        "colab_type": "code",
        "colab": {}
      },
      "source": [
        "# trs_spec_abs = []\n",
        "# for f in trs:\n",
        "#   S=librosa.stft(f, n_fft=1024, hop_length=512)\n",
        "  \n",
        "#   #Taking absolute of input and output of training file\n",
        "#   S =  S.T\n",
        "#   S_abs = np.abs(S)\n",
        "  \n",
        "#   trs_spec_abs.append(S_abs)\n",
        "  \n",
        "# print(len(trs_spec_abs))"
      ],
      "execution_count": 0,
      "outputs": []
    },
    {
      "cell_type": "code",
      "metadata": {
        "id": "SCI_AcyLlOUZ",
        "colab_type": "code",
        "colab": {}
      },
      "source": [
        "def gen_STFT(RawAmpVsTime):\n",
        "\n",
        "  spectrogram = librosa.stft(RawAmpVsTime, n_fft=1024, hop_length=512)\n",
        "  spectrogram = np.transpose(spectrogram)\n",
        "  spectrogram_Mag = np.abs(spectrogram)\n",
        "  \n",
        "  return spectrogram,spectrogram_Mag"
      ],
      "execution_count": 0,
      "outputs": []
    },
    {
      "cell_type": "code",
      "metadata": {
        "id": "01mq9zLNlRGM",
        "colab_type": "code",
        "colab": {}
      },
      "source": [
        "def getSTFT(AllRawAmpVsTime):\n",
        "  STFTs = []\n",
        "  \n",
        "  for i in AllRawAmpVsTime:\n",
        "    spectrogram,spectrogram_Mag = gen_STFT(i)\n",
        "    STFTs.append(spectrogram_Mag)\n",
        "\n",
        "  return STFTs"
      ],
      "execution_count": 0,
      "outputs": []
    },
    {
      "cell_type": "code",
      "metadata": {
        "id": "iN7BldZ4lTrL",
        "colab_type": "code",
        "colab": {}
      },
      "source": [
        "trs_spec_abs = getSTFT(trs)\n",
        "tes_spec_abs = getSTFT(tes)"
      ],
      "execution_count": 0,
      "outputs": []
    },
    {
      "cell_type": "code",
      "metadata": {
        "id": "lcTAAbZo30dG",
        "colab_type": "code",
        "colab": {}
      },
      "source": [
        "# tes_spec_abs = []\n",
        "# for f in tes:\n",
        "#   S=librosa.stft(f, n_fft=1024, hop_length=512)\n",
        "  \n",
        "#   #Taking absolute of input and output of training file\n",
        "#   S =  S.T\n",
        "#   S_abs = np.abs(S)\n",
        "  \n",
        "#   tes_spec_abs.append(S_abs)\n",
        "  \n",
        "# print(len(tes_spec_abs))"
      ],
      "execution_count": 0,
      "outputs": []
    },
    {
      "cell_type": "code",
      "metadata": {
        "id": "bUZbuOPKZHw1",
        "colab_type": "code",
        "outputId": "04130fd3-1ab1-4acf-a3f8-9f70da856c3f",
        "colab": {
          "base_uri": "https://localhost:8080/",
          "height": 35
        }
      },
      "source": [
        "#checking shape of spectrograms\n",
        "trs_spec_abs[0].shape"
      ],
      "execution_count": 11,
      "outputs": [
        {
          "output_type": "execute_result",
          "data": {
            "text/plain": [
              "(32, 513)"
            ]
          },
          "metadata": {
            "tags": []
          },
          "execution_count": 11
        }
      ]
    },
    {
      "cell_type": "code",
      "metadata": {
        "id": "NHA_62On38In",
        "colab_type": "code",
        "outputId": "1b7449ad-74f6-4ae8-f6dd-cca636b34a4c",
        "colab": {
          "base_uri": "https://localhost:8080/",
          "height": 35
        }
      },
      "source": [
        "#checking shape of spectrograms\n",
        "tes_spec_abs[0].shape"
      ],
      "execution_count": 12,
      "outputs": [
        {
          "output_type": "execute_result",
          "data": {
            "text/plain": [
              "(45, 513)"
            ]
          },
          "metadata": {
            "tags": []
          },
          "execution_count": 12
        }
      ]
    },
    {
      "cell_type": "code",
      "metadata": {
        "id": "7fRSaliL6ubx",
        "colab_type": "code",
        "outputId": "42632c0b-b50a-4e1c-f2d9-2d7ee189714f",
        "colab": {
          "base_uri": "https://localhost:8080/",
          "height": 35
        }
      },
      "source": [
        "len(trs_spec_abs)"
      ],
      "execution_count": 13,
      "outputs": [
        {
          "output_type": "execute_result",
          "data": {
            "text/plain": [
              "500"
            ]
          },
          "metadata": {
            "tags": []
          },
          "execution_count": 13
        }
      ]
    },
    {
      "cell_type": "code",
      "metadata": {
        "id": "TC34BDayzZ83",
        "colab_type": "code",
        "colab": {}
      },
      "source": [
        "def PositiveExamples(SpeakerIndices,sampleNum):\n",
        "  PositivePairs = list(itr.combinations(SpeakerIndices,2))\n",
        "  if sampleNum is not None:\n",
        "     PositivePairs =  random.sample(PositivePairs,sampleNum)\n",
        "   \n",
        "  \n",
        "  return PositivePairs\n",
        "\n",
        "def NegativeExamples(SpeakerIndices,RestSpeakerIndices, sampleNum):\n",
        "    NegativePairs = list(itr.product(SpeakerIndices,RestSpeakerIndices))\n",
        "    \n",
        "    if sampleNum is not None:\n",
        "      NegativePairs =  random.sample(NegativePairs,sampleNum)\n",
        "    \n",
        "    return NegativePairs"
      ],
      "execution_count": 0,
      "outputs": []
    },
    {
      "cell_type": "code",
      "metadata": {
        "id": "l7QUcIVXzccj",
        "colab_type": "code",
        "colab": {}
      },
      "source": [
        "def genAllSpeaker(Total_speakers, Data ):\n",
        "  Data = np.array(Data)\n",
        "  Total_clips,Time_Stamp , Features = Data.shape\n",
        "  \n",
        "  AudioPerSpeaker = int(Total_clips//Total_speakers)\n",
        "  \n",
        "  AllIndices = list(range(Total_clips))\n",
        "  \n",
        "  trainLeft = []\n",
        "  trainRight = []\n",
        "  Y = []\n",
        "  for iteration in range(0,Total_clips,10):\n",
        "    SpeakerIndices = list(range(iteration,iteration+10))\n",
        "    \n",
        "    positivePairs = PositiveExamples(SpeakerIndices,45)\n",
        "    \n",
        "    RestSpeakerIndices = np.delete(AllIndices,SpeakerIndices)\n",
        "    \n",
        "    \n",
        "    negativePairs = NegativeExamples(SpeakerIndices,RestSpeakerIndices,45)\n",
        "    \n",
        "    positiveLeftIndices, positiveRightIndices = [i[0] for i in positivePairs] , [i[1] for i in positivePairs] \n",
        "    negativeLeftIndices, negativeRightIndices = [i[0] for i in negativePairs] , [i[1] for i in negativePairs] \n",
        "    \n",
        "    posPlusNegXLeft = np.concatenate((positiveLeftIndices, negativeLeftIndices), axis=None)\n",
        "    posPlusNegXRight = np.concatenate((positiveRightIndices, negativeRightIndices), axis=None)\n",
        "    \n",
        "    YBatch = [1 for i in range(len(positiveLeftIndices))] + [0 for i in range(len(negativeLeftIndices))] \n",
        "    YBatch = np.array(YBatch)    \n",
        "    Y.append(YBatch)\n",
        "    leftNetworkExamples  =  Data[posPlusNegXLeft,:,:] \n",
        "    rightNetworkExamples =  Data[posPlusNegXRight,:,:] \n",
        "    trainLeft.append(leftNetworkExamples)\n",
        "    trainRight.append(rightNetworkExamples)\n",
        "    \n",
        "  return trainLeft,trainRight,Y"
      ],
      "execution_count": 0,
      "outputs": []
    },
    {
      "cell_type": "code",
      "metadata": {
        "id": "9dE-gP7Yzf7x",
        "colab_type": "code",
        "colab": {}
      },
      "source": [
        "minibatch_left,minibatch_right,y_actual = genAllSpeaker(50,trs_spec_abs)\n",
        "minibatch_left_test,minibatch_right_test,y_test = genAllSpeaker(10,tes_spec_abs)"
      ],
      "execution_count": 0,
      "outputs": []
    },
    {
      "cell_type": "code",
      "metadata": {
        "id": "bh0tBc105evE",
        "colab_type": "code",
        "colab": {}
      },
      "source": [
        "# minibatch_left=[]\n",
        "# minibatch_right=[]\n",
        "# for i in range(50):\n",
        "#   left=[]\n",
        "#   right=[]\n",
        "#   speaker = trs_spec_abs[10*i:i*10+10]\n",
        "#   pos = list(itertools.combinations(speaker,2))\n",
        "#   for j in range(45):\n",
        "#     left.append(pos[j][0])\n",
        "#     right.append(pos[j][1])\n",
        "   \n",
        "#   neg_ind = list(range(0,10*i))+list(range(i*10+10,500))\n",
        "#   neg_ind_sampled = np.random.choice(neg_ind, size=45, replace=False)\n",
        "  \n",
        "#   minibatch_neg=[]\n",
        "#   for k,ind in enumerate(neg_ind_sampled):\n",
        "#     pos = speaker[k%10]\n",
        "#     neg = trs_spec_abs[ind]\n",
        "#     left.append(pos)\n",
        "#     right.append(neg)\n",
        "    \n",
        "#   minibatch_left.append(left)\n",
        "#   minibatch_right.append(right)\n",
        "\n",
        "  "
      ],
      "execution_count": 0,
      "outputs": []
    },
    {
      "cell_type": "code",
      "metadata": {
        "id": "wV2YaupJ1zU7",
        "colab_type": "code",
        "colab": {}
      },
      "source": [
        "# minibatch_left = np.array(minibatch_left)\n",
        "# minibatch_right = np.array(minibatch_right)\n",
        "# minibatch_right.shape"
      ],
      "execution_count": 0,
      "outputs": []
    },
    {
      "cell_type": "code",
      "metadata": {
        "id": "9nFgKqRbEZbA",
        "colab_type": "code",
        "colab": {}
      },
      "source": [
        "# Xl = np.reshape(minibatch_left, [50*90, 32, 513])\n",
        "# Xr = np.reshape(minibatch_right, [50*90, 32, 513])"
      ],
      "execution_count": 0,
      "outputs": []
    },
    {
      "cell_type": "code",
      "metadata": {
        "id": "-7UpenY9mUJG",
        "colab_type": "code",
        "colab": {}
      },
      "source": [
        "# y_actual = [([1 for i in range(45)]+[-1 for i in range(45)]) for i in range(50)]\n",
        "# y_actual = np.array(y_actual)\n",
        "# y_actual.shape"
      ],
      "execution_count": 0,
      "outputs": []
    },
    {
      "cell_type": "code",
      "metadata": {
        "id": "7LAzvxXVFEiZ",
        "colab_type": "code",
        "colab": {}
      },
      "source": [
        "# y_train = np.reshape(y_actual, [50*90])"
      ],
      "execution_count": 0,
      "outputs": []
    },
    {
      "cell_type": "code",
      "metadata": {
        "id": "Nozpa82Zeoly",
        "colab_type": "code",
        "colab": {}
      },
      "source": [
        "X_left = tf.placeholder(tf.float32, [None, None, 513])\n",
        "X_right = tf.placeholder(tf.float32, [None, None, 513])\n",
        "\n",
        "y = tf.placeholder(tf.float32, [None])\n",
        "time_domain = tf.placeholder(tf.int32)\n"
      ],
      "execution_count": 0,
      "outputs": []
    },
    {
      "cell_type": "code",
      "metadata": {
        "id": "BWoB1MF0e9EL",
        "colab_type": "code",
        "colab": {}
      },
      "source": [
        "# def ip_reshape(X, time_domain):\n",
        "#   global x_image_2d\n",
        "#   x_image_2d = tf.reshape(X, [-1,time_domain,513])\n",
        "#   return x_image_2d\n",
        "  "
      ],
      "execution_count": 0,
      "outputs": []
    },
    {
      "cell_type": "code",
      "metadata": {
        "id": "C4hO7alX4HkS",
        "colab_type": "code",
        "colab": {}
      },
      "source": [
        "num_units = [513]"
      ],
      "execution_count": 0,
      "outputs": []
    },
    {
      "cell_type": "code",
      "metadata": {
        "id": "E9FWlDyH4OjG",
        "colab_type": "code",
        "colab": {}
      },
      "source": [
        "def NN(X,reuse,td):\n",
        "  cells = [tf.contrib.rnn.BasicLSTMCell(num_units=n, reuse = reuse) for n in num_units]\n",
        "  stacked_lstm = tf.nn.rnn_cell.MultiRNNCell(cells)\n",
        "  rnn_outputs, state = tf.nn.dynamic_rnn(stacked_lstm, X, dtype = tf.float32)\n",
        "  hidden1 = tf.layers.dense(rnn_outputs, 513, name=\"hidden1\", activation=tf.nn.tanh, reuse = reuse)\n",
        "  drop_out = tf.nn.dropout(hidden1, keep_prob = 0.9)\n",
        "  outputs = tf.layers.dense(drop_out, 513, name=\"hidden\", activation=tf.nn.relu, reuse = reuse)\n",
        "  outputs = tf.reshape(hidden1,shape = [-1,td*513])\n",
        "  return outputs"
      ],
      "execution_count": 0,
      "outputs": []
    },
    {
      "cell_type": "code",
      "metadata": {
        "colab_type": "code",
        "id": "zEe6fvl6d2QE",
        "outputId": "313eb8db-5ea5-40c9-f589-56dbf96fc80f",
        "colab": {
          "base_uri": "https://localhost:8080/",
          "height": 659
        }
      },
      "source": [
        "out1 = NN(X_left,False,time_domain)\n",
        "out2 = NN(X_right,True,time_domain)\n",
        "dotProduct = tf.reduce_sum(tf.multiply(out1,out2),axis = 1 ,name = 'dotproduct')\n",
        "yPred = tf.nn.sigmoid(dotProduct)\n",
        "\n",
        "binarisedOutput = tf.cast(tf.math.greater(yPred,0.5), tf.int16)\n",
        "\n",
        "\n",
        "accuracy = tf.metrics.accuracy(labels = y,predictions = binarisedOutput)\n",
        "\n",
        "lossCalcu = tf.nn.sigmoid_cross_entropy_with_logits(labels = y, logits = dotProduct)\n",
        "lossCalcu  = tf.reduce_sum(lossCalcu)\n",
        "\n",
        "gradOptimizer = tf.train.AdamOptimizer(learning_rate=0.0005)\n",
        "\n",
        "train = gradOptimizer.minimize(lossCalcu)\n",
        "# accuracy = RSquared(LastOutput,Y)\n",
        "\n",
        "init = tf.global_variables_initializer()\n",
        "\n"
      ],
      "execution_count": 20,
      "outputs": [
        {
          "output_type": "stream",
          "text": [
            "WARNING:tensorflow:\n",
            "The TensorFlow contrib module will not be included in TensorFlow 2.0.\n",
            "For more information, please see:\n",
            "  * https://github.com/tensorflow/community/blob/master/rfcs/20180907-contrib-sunset.md\n",
            "  * https://github.com/tensorflow/addons\n",
            "  * https://github.com/tensorflow/io (for I/O related ops)\n",
            "If you depend on functionality not listed there, please file an issue.\n",
            "\n",
            "WARNING:tensorflow:From <ipython-input-19-67851292c407>:2: BasicLSTMCell.__init__ (from tensorflow.python.ops.rnn_cell_impl) is deprecated and will be removed in a future version.\n",
            "Instructions for updating:\n",
            "This class is equivalent as tf.keras.layers.LSTMCell, and will be replaced by that in Tensorflow 2.0.\n",
            "WARNING:tensorflow:From <ipython-input-19-67851292c407>:3: MultiRNNCell.__init__ (from tensorflow.python.ops.rnn_cell_impl) is deprecated and will be removed in a future version.\n",
            "Instructions for updating:\n",
            "This class is equivalent as tf.keras.layers.StackedRNNCells, and will be replaced by that in Tensorflow 2.0.\n",
            "WARNING:tensorflow:From <ipython-input-19-67851292c407>:4: dynamic_rnn (from tensorflow.python.ops.rnn) is deprecated and will be removed in a future version.\n",
            "Instructions for updating:\n",
            "Please use `keras.layers.RNN(cell)`, which is equivalent to this API\n",
            "WARNING:tensorflow:From /usr/local/lib/python3.6/dist-packages/tensorflow_core/python/ops/rnn_cell_impl.py:735: Layer.add_variable (from tensorflow.python.keras.engine.base_layer) is deprecated and will be removed in a future version.\n",
            "Instructions for updating:\n",
            "Please use `layer.add_weight` method instead.\n",
            "WARNING:tensorflow:From /usr/local/lib/python3.6/dist-packages/tensorflow_core/python/ops/rnn_cell_impl.py:739: calling Zeros.__init__ (from tensorflow.python.ops.init_ops) with dtype is deprecated and will be removed in a future version.\n",
            "Instructions for updating:\n",
            "Call initializer instance with the dtype argument instead of passing it to the constructor\n",
            "WARNING:tensorflow:From <ipython-input-19-67851292c407>:5: dense (from tensorflow.python.layers.core) is deprecated and will be removed in a future version.\n",
            "Instructions for updating:\n",
            "Use keras.layers.Dense instead.\n",
            "WARNING:tensorflow:From /usr/local/lib/python3.6/dist-packages/tensorflow_core/python/layers/core.py:187: Layer.apply (from tensorflow.python.keras.engine.base_layer) is deprecated and will be removed in a future version.\n",
            "Instructions for updating:\n",
            "Please use `layer.__call__` method instead.\n",
            "WARNING:tensorflow:From <ipython-input-19-67851292c407>:6: calling dropout (from tensorflow.python.ops.nn_ops) with keep_prob is deprecated and will be removed in a future version.\n",
            "Instructions for updating:\n",
            "Please use `rate` instead of `keep_prob`. Rate should be set to `rate = 1 - keep_prob`.\n",
            "WARNING:tensorflow:From /usr/local/lib/python3.6/dist-packages/tensorflow_core/python/ops/nn_impl.py:183: where (from tensorflow.python.ops.array_ops) is deprecated and will be removed in a future version.\n",
            "Instructions for updating:\n",
            "Use tf.where in 2.0, which has the same broadcast rule as np.where\n"
          ],
          "name": "stdout"
        }
      ]
    },
    {
      "cell_type": "code",
      "metadata": {
        "id": "7tKgkn5ZjJsN",
        "colab_type": "code",
        "colab": {}
      },
      "source": [
        "#Using Adam Optimizer for minimizing the loss\n",
        "lr = 0.0005\n",
        "optimizer2 = tf.train.AdamOptimizer(lr).minimize(lossCalcu)\n",
        "\n",
        "init = tf.global_variables_initializer()"
      ],
      "execution_count": 0,
      "outputs": []
    },
    {
      "cell_type": "code",
      "metadata": {
        "id": "LDJS5QZtiuX5",
        "colab_type": "code",
        "outputId": "3a22f373-3987-4d8f-e1af-91a544bbd5dd",
        "colab": {
          "base_uri": "https://localhost:8080/",
          "height": 195
        }
      },
      "source": [
        "#Training the NN\n",
        "n_epochs = 100\n",
        "acc_2d = []\n",
        "\n",
        "saver = tf.train.Saver()\n",
        "with tf.Session() as sess:\n",
        "  init.run()\n",
        "  for epoch in range(n_epochs):\n",
        "    epoch_loss=0\n",
        "    for iteration in range(len(minibatch_left)):\n",
        "  #     for i in range(2):\n",
        "      X_batch_left = minibatch_left[iteration]#[45*i:45*i+45]\n",
        "      X_batch_right = minibatch_right[iteration]#[45*i:45*i+45]\n",
        "      y_batch = y_actual[iteration]#[45*i:45*i+45]\n",
        "\n",
        "      sess.run(optimizer2, feed_dict = {X_left: X_batch_left, X_right: X_batch_right, y: y_batch, time_domain:minibatch_left[0].shape[1]})\n",
        "\n",
        "      l = lossCalcu.eval(feed_dict={X_left: X_batch_left, X_right: X_batch_right, y: y_batch, time_domain:minibatch_left[0].shape[1]})\n",
        "      epoch_loss+=l\n",
        "    if epoch%10==0:\n",
        "      print('epoch:', epoch+1, 'epoch loss',epoch_loss)\n",
        "      \n",
        "      save_path = saver.save(sess, \"/tmp/Q1.ckpt\")\n",
        "\n"
      ],
      "execution_count": 22,
      "outputs": [
        {
          "output_type": "stream",
          "text": [
            "epoch: 1 epoch loss 13891.512020111084\n",
            "epoch: 11 epoch loss 558.8830995559692\n",
            "epoch: 21 epoch loss 155.59236297011375\n",
            "epoch: 31 epoch loss 2.3235499737784266\n",
            "epoch: 41 epoch loss 0.79826001659967\n",
            "epoch: 51 epoch loss 0.4065752741880715\n",
            "epoch: 61 epoch loss 0.23936660622712225\n",
            "epoch: 71 epoch loss 0.15213845699327067\n",
            "epoch: 81 epoch loss 0.10134414126514457\n",
            "epoch: 91 epoch loss 0.06965036803740077\n"
          ],
          "name": "stdout"
        }
      ]
    },
    {
      "cell_type": "markdown",
      "metadata": {
        "id": "MNzrqAqi9SxR",
        "colab_type": "text"
      },
      "source": [
        "### Checking accuracy on test"
      ]
    },
    {
      "cell_type": "code",
      "metadata": {
        "id": "SokppFNZAnk4",
        "colab_type": "code",
        "colab": {}
      },
      "source": [
        "# minibatch_left_test=[]\n",
        "# minibatch_right_test=[]\n",
        "# for i in range(20):\n",
        "#   left=[]\n",
        "#   right=[]\n",
        "#   speaker = tes_spec_abs[10*i:i*10+10]\n",
        "#   pos = list(itertools.combinations(speaker,2))\n",
        "#   for j in range(45):\n",
        "#     left.append(pos[j][0])\n",
        "#     right.append(pos[j][1])\n",
        "   \n",
        "#   neg_ind = list(range(0,10*i))+list(range(i*10+10,200))\n",
        "#   neg_ind_sampled = np.random.choice(neg_ind, size=45, replace=False)\n",
        "  \n",
        "#   minibatch_neg=[]\n",
        "#   for k,ind in enumerate(neg_ind_sampled):\n",
        "#     pos = speaker[k%10]\n",
        "#     neg = tes_spec_abs[ind]\n",
        "#     left.append(pos)\n",
        "#     right.append(neg)\n",
        "    \n",
        "#   minibatch_left_test.append(left)\n",
        "#   minibatch_right_test.append(right)\n",
        "\n",
        "  "
      ],
      "execution_count": 0,
      "outputs": []
    },
    {
      "cell_type": "code",
      "metadata": {
        "id": "HLdBzqJh9wcb",
        "colab_type": "code",
        "colab": {}
      },
      "source": [
        "# minibatch_left_test = np.array(minibatch_left_test)\n",
        "# minibatch_right_test = np.array(minibatch_right_test)\n",
        "# minibatch_right_test.shape"
      ],
      "execution_count": 0,
      "outputs": []
    },
    {
      "cell_type": "code",
      "metadata": {
        "id": "n3PgrWj7-Q5K",
        "colab_type": "code",
        "colab": {}
      },
      "source": [
        "# y_test = [([1 for i in range(45)]+[-1 for i in range(45)]) for i in range(20)]\n",
        "# y_test = np.array(y_test)\n",
        "# y_test.shape"
      ],
      "execution_count": 0,
      "outputs": []
    },
    {
      "cell_type": "code",
      "metadata": {
        "id": "nVbMgvA1_EOD",
        "colab_type": "code",
        "colab": {}
      },
      "source": [
        "Xl = np.array(minibatch_left_test).reshape((-1,45,513))\n",
        "Xr = np.array(minibatch_right_test).reshape((-1,45,513))\n",
        "y_test = np.array(y_test).reshape(-1)"
      ],
      "execution_count": 0,
      "outputs": []
    },
    {
      "cell_type": "code",
      "metadata": {
        "id": "SNgNLeXia7MC",
        "colab_type": "code",
        "outputId": "3db8349b-1cfc-4499-f84a-00e572da208c",
        "colab": {
          "base_uri": "https://localhost:8080/",
          "height": 35
        }
      },
      "source": [
        "y_test.shape"
      ],
      "execution_count": 24,
      "outputs": [
        {
          "output_type": "execute_result",
          "data": {
            "text/plain": [
              "(1800,)"
            ]
          },
          "metadata": {
            "tags": []
          },
          "execution_count": 24
        }
      ]
    },
    {
      "cell_type": "code",
      "metadata": {
        "id": "axdgUTxa-n6p",
        "colab_type": "code",
        "colab": {}
      },
      "source": [
        "# test_pred = sess.run(yPred, feed_dict={X_left:Xl, X_right:Xr, y:y_test, time_domain:Xl.shape[1]})"
      ],
      "execution_count": 0,
      "outputs": []
    },
    {
      "cell_type": "code",
      "metadata": {
        "id": "OsENqzvc_Twd",
        "colab_type": "code",
        "outputId": "ce8fb471-ed44-4c38-e8a9-20a90c397b3d",
        "colab": {
          "base_uri": "https://localhost:8080/",
          "height": 70
        }
      },
      "source": [
        "with tf.Session() as sess:\n",
        "  init.run()\n",
        "  saver.restore(sess, \"/tmp/Q1.ckpt\")\n",
        "  test_pred = sess.run(yPred, feed_dict={X_left:Xl, X_right:Xr, y:y_test, time_domain:Xl.shape[1]})\n",
        "\n",
        "  \n",
        "print('Accuracy on test data:')\n",
        "print(sum(test_pred == y_test)/y_test.shape)"
      ],
      "execution_count": 26,
      "outputs": [
        {
          "output_type": "stream",
          "text": [
            "INFO:tensorflow:Restoring parameters from /tmp/Q1.ckpt\n",
            "Accuracy on test data:\n",
            "[0.36722222]\n"
          ],
          "name": "stdout"
        }
      ]
    },
    {
      "cell_type": "code",
      "metadata": {
        "id": "1u7hdz6OyKTl",
        "colab_type": "code",
        "colab": {}
      },
      "source": [
        ""
      ],
      "execution_count": 0,
      "outputs": []
    }
  ]
}